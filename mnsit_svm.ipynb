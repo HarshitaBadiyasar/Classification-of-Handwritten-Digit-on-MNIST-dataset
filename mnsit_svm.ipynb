{
  "nbformat": 4,
  "nbformat_minor": 0,
  "metadata": {
    "colab": {
      "provenance": [],
      "authorship_tag": "ABX9TyM5VP+yASg5/fLF1J6vzOu5",
      "include_colab_link": true
    },
    "kernelspec": {
      "name": "python3",
      "display_name": "Python 3"
    },
    "language_info": {
      "name": "python"
    }
  },
  "cells": [
    {
      "cell_type": "markdown",
      "metadata": {
        "id": "view-in-github",
        "colab_type": "text"
      },
      "source": [
        "<a href=\"https://colab.research.google.com/github/HarshitaBadiyasar/Classification-of-Handwritten-Digit-on-MNIST-dataset/blob/main/mnsit_svm.ipynb\" target=\"_parent\"><img src=\"https://colab.research.google.com/assets/colab-badge.svg\" alt=\"Open In Colab\"/></a>"
      ]
    },
    {
      "cell_type": "code",
      "execution_count": null,
      "metadata": {
        "id": "0BbpYB8L3bHm",
        "colab": {
          "base_uri": "https://localhost:8080/"
        },
        "outputId": "2c78e057-6f0a-4314-a167-05e5516e0e1e"
      },
      "outputs": [
        {
          "output_type": "stream",
          "name": "stdout",
          "text": [
            "Accuracy: 0.9792\n",
            "Precision: 0.9791973966593345\n",
            "Recall: 0.9790919842945065\n",
            "F1-score: 0.9791298259748042\n",
            "Confusion matrix:\n",
            " [[ 973    0    1    0    0    2    1    1    2    0]\n",
            " [   0 1126    3    1    0    1    1    1    2    0]\n",
            " [   6    1 1006    2    1    0    2    7    6    1]\n",
            " [   0    0    2  995    0    2    0    5    5    1]\n",
            " [   0    0    5    0  961    0    3    0    2   11]\n",
            " [   2    0    0    9    0  871    4    1    4    1]\n",
            " [   6    2    0    0    2    3  944    0    1    0]\n",
            " [   0    6   11    1    1    0    0  996    2   11]\n",
            " [   3    0    2    6    3    2    2    3  950    3]\n",
            " [   3    4    1    7   10    2    1    7    4  970]]\n",
            "Accuracy_cross: 0.98 +/- 0.00\n"
          ]
        }
      ],
      "source": [
        "import urllib.request\n",
        "import gzip\n",
        "import numpy as np\n",
        "from sklearn.model_selection import train_test_split, GridSearchCV, RandomizedSearchCV\n",
        "from sklearn.metrics import accuracy_score, precision_score, recall_score, f1_score, confusion_matrix\n",
        "from sklearn.svm import SVC\n",
        "from sklearn.model_selection import cross_val_score\n",
        "from sklearn.preprocessing import MinMaxScaler\n",
        "#from sklearn.datasets import fetch_openml\n",
        "\n",
        "url = 'http://yann.lecun.com/exdb/mnist/train-images-idx3-ubyte.gz'\n",
        "filename, headers = urllib.request.urlretrieve(url, 'train-images-idx3-ubyte.gz')\n",
        "# Load training images\n",
        "with gzip.open(filename, 'rb') as f:\n",
        "    data = np.frombuffer(f.read(), np.uint8, offset=16)\n",
        "    X_train = data.reshape(-1, 28*28)\n",
        "url = 'http://yann.lecun.com/exdb/mnist/train-labels-idx1-ubyte.gz'\n",
        "filename, headers = urllib.request.urlretrieve(url, 'train-labels-idx1-ubyte.gz')\n",
        "# Load training labels\n",
        "with gzip.open(filename, 'rb') as f:\n",
        "    data = np.frombuffer(f.read(), np.uint8, offset=8)\n",
        "    y_train = data\n",
        "url = 'http://yann.lecun.com/exdb/mnist/t10k-images-idx3-ubyte.gz'\n",
        "filename, headers = urllib.request.urlretrieve(url, 't10k-images-idx3-ubyte.gz')\n",
        "# Load test images\n",
        "with gzip.open(filename, 'rb') as f:\n",
        "    data = np.frombuffer(f.read(), np.uint8, offset=16)\n",
        "    X_test = data.reshape(-1, 28*28)\n",
        "url = 'http://yann.lecun.com/exdb/mnist/t10k-labels-idx1-ubyte.gz'\n",
        "filename, headers = urllib.request.urlretrieve(url, 't10k-labels-idx1-ubyte.gz')\n",
        "# Load test labels\n",
        "with gzip.open(filename, 'rb') as f:\n",
        "    data = np.frombuffer(f.read(), np.uint8, offset=8)\n",
        "    y_test = data\n",
        "\n",
        "scaler = MinMaxScaler()\n",
        "X_train_scaled = scaler.fit_transform(X_train)\n",
        "\n",
        "svm_model = SVC()\n",
        "svm_model.fit(X_train,y_train)\n",
        "y_pred = svm_model.predict(X_test)\n",
        "print('Accuracy:', accuracy_score(y_test, y_pred))\n",
        "print(\"Precision:\", precision_score(y_test, y_pred, average='macro'))\n",
        "print(\"Recall:\", recall_score(y_test, y_pred, average='macro'))\n",
        "print(\"F1-score:\", f1_score(y_test, y_pred, average='macro'))\n",
        "print(\"Confusion matrix:\\n\", confusion_matrix(y_test, y_pred))\n",
        "\n",
        "scores = cross_val_score(svm_model, X_train, y_train, cv=5)\n",
        "print(f\"Accuracy_cross: {scores.mean():.2f} +/- {scores.std():.2f}\")\n",
        "\n",
        "\"\"\"\n",
        "param_grid = {'C': [0.1, 1, 10],\n",
        "              'kernel': ['linear', 'rbf', 'sigmoid'],\n",
        "              'gamma': [0.01, 0.1, 1]}\n",
        "svm_grid = GridSearchCV(svm_model, param_grid, cv=5, n_jobs=-1)\n",
        "svm_grid.fit(X_train, y_train)\n",
        "print('Best parameters:', svm_grid.best_params_)\n",
        "y_pred = svm_grid.predict(X_test)\n",
        "print('Accuracy_grid:', accuracy_score(y_test, y_pred))\n",
        "svmg=svm_grid.best_estimator_\n",
        "y_pred =svmg.predict(X_test)\n",
        "print('Accuracy_grid_best:', accuracy_score(y_test, y_pred))\n",
        "\"\"\"\n",
        "param_dist = {'C': [0.1, 1, 10],\n",
        "              'kernel': ['linear', 'rbf'],\n",
        "              'gamma': [0.01, 0.1, 1]}\n",
        "svm_random = RandomizedSearchCV(svm_model, param_dist, cv=5, n_jobs=-1)\n",
        "svm_random.fit(X_train, y_train)\n",
        "print('Best parameters:', svm_random.best_params_)\n",
        "y_pred = svm_random.predict(X_test)\n",
        "print('Accuracy_random:', accuracy_score(y_test, y_pred))\n",
        "svmr=svm_random.best_estimator_\n",
        "y_pred =svmr.predict(X_test)\n",
        "print('Accuracy_random_best:', accuracy_score(y_test, y_pred))\n",
        "print(\"Precision:\", precision_score(y_test, y_pred, average='macro'))\n",
        "print(\"Recall:\", recall_score(y_test, y_pred, average='macro'))\n",
        "print(\"F1-score:\", f1_score(y_test, y_pred, average='macro'))\n",
        "print(\"Confusion matrix:\\n\", confusion_matrix(y_test, y_pred))\n"
      ]
    }
  ]
}